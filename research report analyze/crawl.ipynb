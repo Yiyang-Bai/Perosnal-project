{
 "cells": [
  {
   "metadata": {
    "ExecuteTime": {
     "end_time": "2024-12-26T05:49:51.148926Z",
     "start_time": "2024-12-26T05:49:51.144721Z"
    }
   },
   "cell_type": "code",
   "source": [
    "import time\n",
    "import requests\n",
    "from bs4 import BeautifulSoup\n",
    "from selenium import webdriver\n",
    "from selenium.webdriver.chrome.service import Service\n",
    "from selenium.webdriver.common.by import By\n",
    "import mysql.connector\n",
    "\n",
    "\n",
    "def setup_driver(driver_path):\n",
    "    \"\"\"Set up and return a Selenium WebDriver instance.\"\"\"\n",
    "    service = Service(driver_path)\n",
    "    driver = webdriver.Chrome(service=service)\n",
    "    driver.implicitly_wait(5)\n",
    "    return driver"
   ],
   "id": "7155adb14fde2fcc",
   "outputs": [],
   "execution_count": 109
  },
  {
   "metadata": {
    "ExecuteTime": {
     "end_time": "2024-12-26T05:49:52.490900Z",
     "start_time": "2024-12-26T05:49:51.316216Z"
    }
   },
   "cell_type": "code",
   "source": [
    "driver_path = r'C:\\Users\\AAA\\Downloads\\chromedriver-win64\\chromedriver-win64\\chromedriver.exe'\n",
    "driver = setup_driver(driver_path)\n"
   ],
   "id": "da89561c8c1e51fe",
   "outputs": [],
   "execution_count": 110
  },
  {
   "metadata": {
    "ExecuteTime": {
     "end_time": "2024-12-26T05:49:52.509025Z",
     "start_time": "2024-12-26T05:49:52.504914Z"
    }
   },
   "cell_type": "code",
   "source": [
    "def setup_db_connection():\n",
    "    \"\"\"Set up and return a MySQL database connection.\"\"\"\n",
    "    conn = mysql.connector.connect(\n",
    "        host=\"localhost\",\n",
    "        user=\"root\",\n",
    "        password=\"Byy200402191017\",\n",
    "        database=\"report\",\n",
    "        charset=\"utf8mb4\"\n",
    "    )\n",
    "    return conn\n"
   ],
   "id": "dfaefb8a64665b15",
   "outputs": [],
   "execution_count": 111
  },
  {
   "metadata": {
    "ExecuteTime": {
     "end_time": "2024-12-26T05:49:52.582006Z",
     "start_time": "2024-12-26T05:49:52.570597Z"
    }
   },
   "cell_type": "code",
   "source": "conn = setup_db_connection()\n",
   "id": "8ab27413ec494ee7",
   "outputs": [],
   "execution_count": 112
  },
  {
   "metadata": {
    "ExecuteTime": {
     "end_time": "2024-12-26T05:49:52.652963Z",
     "start_time": "2024-12-26T05:49:52.646884Z"
    }
   },
   "cell_type": "code",
   "source": [
    "def collect_links(driver, url, number):\n",
    "    \"\"\"Collect a specified number of unique links from the given URL.\"\"\"\n",
    "    links = set()\n",
    "    old_count = 0\n",
    "\n",
    "    driver.get(url)\n",
    "\n",
    "    while len(links) < number:\n",
    "        news_items = driver.find_elements(\n",
    "            By.CSS_SELECTOR,\n",
    "            \"#nimbus-app > section > section > section > article > section.mainContent.yf-tnbau3 > section > \"\n",
    "            \"div > div > div > div > ul > li > section > div > a\"\n",
    "        )\n",
    "\n",
    "        for item in news_items:\n",
    "            href = item.get_attribute(\"href\")\n",
    "            if href and href not in links:\n",
    "                links.add(href)\n",
    "\n",
    "        if len(links) >= number:\n",
    "            break\n",
    "\n",
    "        driver.execute_script(\"window.scrollTo(0, document.body.scrollHeight);\")\n",
    "        time.sleep(2)\n",
    "\n",
    "        if len(links) == old_count:\n",
    "            print(\"No more new links found. Stopping...\")\n",
    "            break\n",
    "        old_count = len(links)\n",
    "\n",
    "    return list(links)[:number]"
   ],
   "id": "b3dd5a074e4b2471",
   "outputs": [],
   "execution_count": 113
  },
  {
   "metadata": {
    "ExecuteTime": {
     "end_time": "2024-12-26T05:50:08.030857Z",
     "start_time": "2024-12-26T05:49:52.712982Z"
    }
   },
   "cell_type": "code",
   "source": [
    "url = f'https://finance.yahoo.com/quote/MS/news/'\n",
    "number = 5\n",
    "links = collect_links(driver, url, number)\n",
    "print(\"Collected Links:\", links)\n",
    "len(links[0])\n"
   ],
   "id": "68ed3c5ac6764b66",
   "outputs": [
    {
     "ename": "NoSuchWindowException",
     "evalue": "Message: no such window: target window already closed\nfrom unknown error: web view not found\n  (Session info: chrome=131.0.6778.205)\nStacktrace:\n\tGetHandleVerifier [0x00007FF729B6FB05+28789]\n\t(No symbol) [0x00007FF729AD86E0]\n\t(No symbol) [0x00007FF72997592A]\n\t(No symbol) [0x00007FF72994F505]\n\t(No symbol) [0x00007FF7299F6477]\n\t(No symbol) [0x00007FF729A0EF42]\n\t(No symbol) [0x00007FF7299EF1E3]\n\t(No symbol) [0x00007FF7299BA938]\n\t(No symbol) [0x00007FF7299BBAA1]\n\tGetHandleVerifier [0x00007FF729EA933D+3410093]\n\tGetHandleVerifier [0x00007FF729EBE7DD+3497293]\n\tGetHandleVerifier [0x00007FF729EB2A73+3448803]\n\tGetHandleVerifier [0x00007FF729C37BBB+848171]\n\t(No symbol) [0x00007FF729AE3C3F]\n\t(No symbol) [0x00007FF729ADF6E4]\n\t(No symbol) [0x00007FF729ADF87D]\n\t(No symbol) [0x00007FF729ACED49]\n\tBaseThreadInitThunk [0x00007FF94779259D+29]\n\tRtlUserThreadStart [0x00007FF948D2AF38+40]\n",
     "output_type": "error",
     "traceback": [
      "\u001B[1;31m---------------------------------------------------------------------------\u001B[0m",
      "\u001B[1;31mNoSuchWindowException\u001B[0m                     Traceback (most recent call last)",
      "Cell \u001B[1;32mIn[114], line 3\u001B[0m\n\u001B[0;32m      1\u001B[0m url \u001B[38;5;241m=\u001B[39m \u001B[38;5;124mf\u001B[39m\u001B[38;5;124m'\u001B[39m\u001B[38;5;124mhttps://finance.yahoo.com/quote/MS/news/\u001B[39m\u001B[38;5;124m'\u001B[39m\n\u001B[0;32m      2\u001B[0m number \u001B[38;5;241m=\u001B[39m \u001B[38;5;241m5\u001B[39m\n\u001B[1;32m----> 3\u001B[0m links \u001B[38;5;241m=\u001B[39m \u001B[43mcollect_links\u001B[49m\u001B[43m(\u001B[49m\u001B[43mdriver\u001B[49m\u001B[43m,\u001B[49m\u001B[43m \u001B[49m\u001B[43murl\u001B[49m\u001B[43m,\u001B[49m\u001B[43m \u001B[49m\u001B[43mnumber\u001B[49m\u001B[43m)\u001B[49m\n\u001B[0;32m      4\u001B[0m \u001B[38;5;28mprint\u001B[39m(\u001B[38;5;124m\"\u001B[39m\u001B[38;5;124mCollected Links:\u001B[39m\u001B[38;5;124m\"\u001B[39m, links)\n\u001B[0;32m      5\u001B[0m \u001B[38;5;28mlen\u001B[39m(links[\u001B[38;5;241m0\u001B[39m])\n",
      "Cell \u001B[1;32mIn[113], line 9\u001B[0m, in \u001B[0;36mcollect_links\u001B[1;34m(driver, url, number)\u001B[0m\n\u001B[0;32m      6\u001B[0m driver\u001B[38;5;241m.\u001B[39mget(url)\n\u001B[0;32m      8\u001B[0m \u001B[38;5;28;01mwhile\u001B[39;00m \u001B[38;5;28mlen\u001B[39m(links) \u001B[38;5;241m<\u001B[39m number:\n\u001B[1;32m----> 9\u001B[0m     news_items \u001B[38;5;241m=\u001B[39m \u001B[43mdriver\u001B[49m\u001B[38;5;241;43m.\u001B[39;49m\u001B[43mfind_elements\u001B[49m\u001B[43m(\u001B[49m\n\u001B[0;32m     10\u001B[0m \u001B[43m        \u001B[49m\u001B[43mBy\u001B[49m\u001B[38;5;241;43m.\u001B[39;49m\u001B[43mCSS_SELECTOR\u001B[49m\u001B[43m,\u001B[49m\n\u001B[0;32m     11\u001B[0m \u001B[43m        \u001B[49m\u001B[38;5;124;43m\"\u001B[39;49m\u001B[38;5;124;43m#nimbus-app > section > section > section > article > section.mainContent.yf-tnbau3 > section > \u001B[39;49m\u001B[38;5;124;43m\"\u001B[39;49m\n\u001B[0;32m     12\u001B[0m \u001B[43m        \u001B[49m\u001B[38;5;124;43m\"\u001B[39;49m\u001B[38;5;124;43mdiv > div > div > div > ul > li > section > div > a\u001B[39;49m\u001B[38;5;124;43m\"\u001B[39;49m\n\u001B[0;32m     13\u001B[0m \u001B[43m    \u001B[49m\u001B[43m)\u001B[49m\n\u001B[0;32m     15\u001B[0m     \u001B[38;5;28;01mfor\u001B[39;00m item \u001B[38;5;129;01min\u001B[39;00m news_items:\n\u001B[0;32m     16\u001B[0m         href \u001B[38;5;241m=\u001B[39m item\u001B[38;5;241m.\u001B[39mget_attribute(\u001B[38;5;124m\"\u001B[39m\u001B[38;5;124mhref\u001B[39m\u001B[38;5;124m\"\u001B[39m)\n",
      "File \u001B[1;32m~\\PycharmProjects\\pythonProject\\.venv\\Lib\\site-packages\\selenium\\webdriver\\remote\\webdriver.py:792\u001B[0m, in \u001B[0;36mWebDriver.find_elements\u001B[1;34m(self, by, value)\u001B[0m\n\u001B[0;32m    788\u001B[0m     \u001B[38;5;28;01mreturn\u001B[39;00m \u001B[38;5;28mself\u001B[39m\u001B[38;5;241m.\u001B[39mexecute_script(find_element_js, by\u001B[38;5;241m.\u001B[39mto_dict())\n\u001B[0;32m    790\u001B[0m \u001B[38;5;66;03m# Return empty list if driver returns null\u001B[39;00m\n\u001B[0;32m    791\u001B[0m \u001B[38;5;66;03m# See https://github.com/SeleniumHQ/selenium/issues/4555\u001B[39;00m\n\u001B[1;32m--> 792\u001B[0m \u001B[38;5;28;01mreturn\u001B[39;00m \u001B[38;5;28;43mself\u001B[39;49m\u001B[38;5;241;43m.\u001B[39;49m\u001B[43mexecute\u001B[49m\u001B[43m(\u001B[49m\u001B[43mCommand\u001B[49m\u001B[38;5;241;43m.\u001B[39;49m\u001B[43mFIND_ELEMENTS\u001B[49m\u001B[43m,\u001B[49m\u001B[43m \u001B[49m\u001B[43m{\u001B[49m\u001B[38;5;124;43m\"\u001B[39;49m\u001B[38;5;124;43musing\u001B[39;49m\u001B[38;5;124;43m\"\u001B[39;49m\u001B[43m:\u001B[49m\u001B[43m \u001B[49m\u001B[43mby\u001B[49m\u001B[43m,\u001B[49m\u001B[43m \u001B[49m\u001B[38;5;124;43m\"\u001B[39;49m\u001B[38;5;124;43mvalue\u001B[39;49m\u001B[38;5;124;43m\"\u001B[39;49m\u001B[43m:\u001B[49m\u001B[43m \u001B[49m\u001B[43mvalue\u001B[49m\u001B[43m}\u001B[49m\u001B[43m)\u001B[49m[\u001B[38;5;124m\"\u001B[39m\u001B[38;5;124mvalue\u001B[39m\u001B[38;5;124m\"\u001B[39m] \u001B[38;5;129;01mor\u001B[39;00m []\n",
      "File \u001B[1;32m~\\PycharmProjects\\pythonProject\\.venv\\Lib\\site-packages\\selenium\\webdriver\\remote\\webdriver.py:384\u001B[0m, in \u001B[0;36mWebDriver.execute\u001B[1;34m(self, driver_command, params)\u001B[0m\n\u001B[0;32m    382\u001B[0m response \u001B[38;5;241m=\u001B[39m \u001B[38;5;28mself\u001B[39m\u001B[38;5;241m.\u001B[39mcommand_executor\u001B[38;5;241m.\u001B[39mexecute(driver_command, params)\n\u001B[0;32m    383\u001B[0m \u001B[38;5;28;01mif\u001B[39;00m response:\n\u001B[1;32m--> 384\u001B[0m     \u001B[38;5;28;43mself\u001B[39;49m\u001B[38;5;241;43m.\u001B[39;49m\u001B[43merror_handler\u001B[49m\u001B[38;5;241;43m.\u001B[39;49m\u001B[43mcheck_response\u001B[49m\u001B[43m(\u001B[49m\u001B[43mresponse\u001B[49m\u001B[43m)\u001B[49m\n\u001B[0;32m    385\u001B[0m     response[\u001B[38;5;124m\"\u001B[39m\u001B[38;5;124mvalue\u001B[39m\u001B[38;5;124m\"\u001B[39m] \u001B[38;5;241m=\u001B[39m \u001B[38;5;28mself\u001B[39m\u001B[38;5;241m.\u001B[39m_unwrap_value(response\u001B[38;5;241m.\u001B[39mget(\u001B[38;5;124m\"\u001B[39m\u001B[38;5;124mvalue\u001B[39m\u001B[38;5;124m\"\u001B[39m, \u001B[38;5;28;01mNone\u001B[39;00m))\n\u001B[0;32m    386\u001B[0m     \u001B[38;5;28;01mreturn\u001B[39;00m response\n",
      "File \u001B[1;32m~\\PycharmProjects\\pythonProject\\.venv\\Lib\\site-packages\\selenium\\webdriver\\remote\\errorhandler.py:232\u001B[0m, in \u001B[0;36mErrorHandler.check_response\u001B[1;34m(self, response)\u001B[0m\n\u001B[0;32m    230\u001B[0m         alert_text \u001B[38;5;241m=\u001B[39m value[\u001B[38;5;124m\"\u001B[39m\u001B[38;5;124malert\u001B[39m\u001B[38;5;124m\"\u001B[39m]\u001B[38;5;241m.\u001B[39mget(\u001B[38;5;124m\"\u001B[39m\u001B[38;5;124mtext\u001B[39m\u001B[38;5;124m\"\u001B[39m)\n\u001B[0;32m    231\u001B[0m     \u001B[38;5;28;01mraise\u001B[39;00m exception_class(message, screen, stacktrace, alert_text)  \u001B[38;5;66;03m# type: ignore[call-arg]  # mypy is not smart enough here\u001B[39;00m\n\u001B[1;32m--> 232\u001B[0m \u001B[38;5;28;01mraise\u001B[39;00m exception_class(message, screen, stacktrace)\n",
      "\u001B[1;31mNoSuchWindowException\u001B[0m: Message: no such window: target window already closed\nfrom unknown error: web view not found\n  (Session info: chrome=131.0.6778.205)\nStacktrace:\n\tGetHandleVerifier [0x00007FF729B6FB05+28789]\n\t(No symbol) [0x00007FF729AD86E0]\n\t(No symbol) [0x00007FF72997592A]\n\t(No symbol) [0x00007FF72994F505]\n\t(No symbol) [0x00007FF7299F6477]\n\t(No symbol) [0x00007FF729A0EF42]\n\t(No symbol) [0x00007FF7299EF1E3]\n\t(No symbol) [0x00007FF7299BA938]\n\t(No symbol) [0x00007FF7299BBAA1]\n\tGetHandleVerifier [0x00007FF729EA933D+3410093]\n\tGetHandleVerifier [0x00007FF729EBE7DD+3497293]\n\tGetHandleVerifier [0x00007FF729EB2A73+3448803]\n\tGetHandleVerifier [0x00007FF729C37BBB+848171]\n\t(No symbol) [0x00007FF729AE3C3F]\n\t(No symbol) [0x00007FF729ADF6E4]\n\t(No symbol) [0x00007FF729ADF87D]\n\t(No symbol) [0x00007FF729ACED49]\n\tBaseThreadInitThunk [0x00007FF94779259D+29]\n\tRtlUserThreadStart [0x00007FF948D2AF38+40]\n"
     ]
    }
   ],
   "execution_count": 114
  },
  {
   "metadata": {
    "ExecuteTime": {
     "end_time": "2024-12-26T05:50:08.051547300Z",
     "start_time": "2024-12-26T03:17:19.393604Z"
    }
   },
   "cell_type": "code",
   "source": "len(links[1])",
   "id": "d7f3aa86e0dc3ab0",
   "outputs": [
    {
     "data": {
      "text/plain": [
       "74"
      ]
     },
     "execution_count": 62,
     "metadata": {},
     "output_type": "execute_result"
    }
   ],
   "execution_count": 62
  },
  {
   "metadata": {
    "ExecuteTime": {
     "end_time": "2024-12-26T05:50:38.447574Z",
     "start_time": "2024-12-26T05:50:38.441827Z"
    }
   },
   "cell_type": "code",
   "source": [
    "import requests\n",
    "from bs4 import BeautifulSoup\n",
    "\n",
    "def fetch_article_content(url):\n",
    "    try:\n",
    "        \n",
    "        response = requests.get(url, timeout=10)\n",
    "        response.raise_for_status() \n",
    "        soup = BeautifulSoup(response.text, \"html.parser\")\n",
    "        \n",
    "       \n",
    "        paragraphs = soup.find_all('p', class_='yf-1pe5jgt')  \n",
    "        content = []\n",
    "\n",
    "        for para in paragraphs:\n",
    "           \n",
    "            para_text = []\n",
    "            for elem in para.contents:\n",
    "                if elem.name == 'a':  \n",
    "                    link_text = f\"{elem.get_text(strip=True)} ({elem['href']})\"\n",
    "                    para_text.append(link_text)\n",
    "                else:  \n",
    "                    para_text.append(elem.strip() if isinstance(elem, str) else elem.get_text(strip=True))\n",
    "            content.append(\" \".join(para_text))\n",
    "        \n",
    "        return \"\\n\".join(content)\n",
    "    \n",
    "    except Exception as e:\n",
    "        return f\"Error fetching content: {e}\"\n",
    "def fetch_article_links(links):\n",
    "    result = []\n",
    "    for link in links:\n",
    "        content = fetch_article_content(link)\n",
    "        if content:\n",
    "            result.append([content])\n",
    "    return result \n",
    "\n",
    "def fetch_non_empty_links(links):\n",
    "    result_links = []\n",
    "    for link in links:\n",
    "        content = fetch_article_content(link)\n",
    "        if content:\n",
    "            result_links.append([link])\n",
    "    return result_links\n",
    "        \n",
    "\n",
    "\n"
   ],
   "id": "a6504a715733d48b",
   "outputs": [],
   "execution_count": 116
  },
  {
   "metadata": {
    "ExecuteTime": {
     "end_time": "2024-12-26T05:58:03.139614Z",
     "start_time": "2024-12-26T05:57:42.620991Z"
    }
   },
   "cell_type": "code",
   "source": [
    "list_content = fetch_article_links(links)\n",
    "list_links = fetch_non_empty_links(links)\n",
    "print(len(list_content))\n"
   ],
   "id": "7826064aade7f7e1",
   "outputs": [
    {
     "name": "stdout",
     "output_type": "stream",
     "text": [
      "4\n"
     ]
    }
   ],
   "execution_count": 132
  },
  {
   "metadata": {
    "ExecuteTime": {
     "end_time": "2024-12-26T06:02:01.926439Z",
     "start_time": "2024-12-26T06:02:01.922215Z"
    }
   },
   "cell_type": "code",
   "source": "list_links[1]",
   "id": "2259a383de90ac3d",
   "outputs": [
    {
     "data": {
      "text/plain": [
       "['https://finance.yahoo.com/news/visa-morgan-stanley-top-pick-144647813.html']"
      ]
     },
     "execution_count": 141,
     "metadata": {},
     "output_type": "execute_result"
    }
   ],
   "execution_count": 141
  },
  {
   "metadata": {
    "ExecuteTime": {
     "end_time": "2024-12-26T06:01:54.013387Z",
     "start_time": "2024-12-26T06:01:54.008803Z"
    }
   },
   "cell_type": "code",
   "source": "list_content[1]",
   "id": "443566cca292243c",
   "outputs": [
    {
     "data": {
      "text/plain": [
       "[\"HTML_TAG_START Investing.com --Morgan Stanley named Visa Inc (NYSE:V) its top stock pick in the payments sector for 2025, given its strong growth prospects from international travel, value-added services, and new payment flows. HTML_TAG_END\\nHTML_TAG_START The brokerage remains overweight on Visa and Mastercard (NYSE:MA), favouring their defensible business models, strong operating leverage, and limited competition. HTML_TAG_END\\nHTML_TAG_START “We are adding V as our Top Pick into 2025 given attractive valuation, benefits from travel + value added services, easing regulatory scrutiny, and favorable tactical trading dynamics,” analyst said. HTML_TAG_END\\nHTML_TAG_START Morgan Stanley (NYSE:MS) expects both companies to deliver double-digit earnings growth with potential for modest valuation expansion. HTML_TAG_END\\nHTML_TAG_START Visa's valuation appears particularly attractive on a growth-adjusted basis compared to consumer peers, the note said. Morgan Stanley also highlighted reduced regulatory risks and a potential benefit from an uptick in institutional ownership as key drivers for the stock. HTML_TAG_END\\nHTML_TAG_START Investor sentiment that Visa stock is over-owned relative to the S&P 500 may be misplaced, Morgan Stanley said, noting Visa's current ownership levels remain below historical averages. HTML_TAG_END\\nHTML_TAG_START The brokerage expects near-term tailwinds for Visa from increasing international travel and a possible reversal of its recent inverse correlation with bank outperformance. HTML_TAG_END\\nHTML_TAG_START Related Articles HTML_TAG_END\\nHTML_TAG_START Visa Morgan Stanley’s top pick in payment sector for 2025 on travel (https://www.investing.com/news/stock-market-news/visa-morgan-stanleys-top-pick-in-payment-sector-for-2025-on-travel-3779627?utm_source=yahoo&utm_medium=referral&utm_campaign=yahoo_finance) HTML_TAG_END\\nHTML_TAG_START Wall Street opens little changed as markets brace for Fed (https://www.investing.com/news/economy-news/futures-inch-higher-as-markets-await-fed-decision-3778901?utm_source=yahoo&utm_medium=referral&utm_campaign=yahoo_finance) HTML_TAG_END\\nHTML_TAG_START Marathon VW talks drag on in search for pre-Christmas deal with unions (https://www.investing.com/news/stock-market-news/talks-between-vw-unions-over-cuts-continue-into-wednesday-sources-say-3778650?utm_source=yahoo&utm_medium=referral&utm_campaign=yahoo_finance) HTML_TAG_END\"]"
      ]
     },
     "execution_count": 140,
     "metadata": {},
     "output_type": "execute_result"
    }
   ],
   "execution_count": 140
  },
  {
   "metadata": {
    "ExecuteTime": {
     "end_time": "2024-12-26T05:50:43.050208Z",
     "start_time": "2024-12-26T05:50:43.046045Z"
    }
   },
   "cell_type": "code",
   "source": [
    "import re\n",
    "\n",
    "def clean_list_of_list_content(raw_contents):\n",
    "    \"\"\"\n",
    "    Cleans a list of list content by removing placeholders, unnecessary whitespace, \n",
    "    and formatting for readability.\n",
    "    \n",
    "    Args:\n",
    "        raw_contents (list of lists): Each sublist contains a string of raw content.\n",
    "    \n",
    "    Returns:\n",
    "        list of lists: Each sublist contains a single cleaned and formatted string.\n",
    "    \"\"\"\n",
    "    cleaned_contents = []\n",
    "    \n",
    "    for sublist in raw_contents:\n",
    "        # Check if sublist has content\n",
    "        if not sublist or not isinstance(sublist[0], str):\n",
    "            cleaned_contents.append([\"No valid content provided.\"])\n",
    "            continue\n",
    "\n",
    "        raw_text = sublist[0]\n",
    "\n",
    "       \n",
    "        cleaned_text = re.sub(r'HTML_TAG_START|HTML_TAG_END', '', raw_text)\n",
    "\n",
    "        \n",
    "        cleaned_text = re.sub(r'\\s+', ' ', cleaned_text).strip()\n",
    "\n",
    "        \n",
    "        paragraphs = cleaned_text.split('. ')\n",
    "        formatted_content = \"\\n\\n\".join(paragraphs)\n",
    "        \n",
    "        \n",
    "        cleaned_contents.append([formatted_content])\n",
    "    \n",
    "    return cleaned_contents\n",
    "\n",
    "\n"
   ],
   "id": "fb5b67c5e03a5b26",
   "outputs": [],
   "execution_count": 117
  },
  {
   "metadata": {
    "ExecuteTime": {
     "end_time": "2024-12-26T05:50:08.053551400Z",
     "start_time": "2024-12-26T03:33:38.565001Z"
    }
   },
   "cell_type": "code",
   "source": "clean_list_of_list_content(list_content)",
   "id": "4a1b377b1364c758",
   "outputs": [
    {
     "data": {
      "text/plain": [
       "[['NEW YORK, December 18, 2024 --( BUSINESS WIRE (https://www.businesswire.com) )--Morgan Stanley Investment Management, through investment funds managed by Morgan Stanley Real Estate Investing (MSREI), announced today it has partnered with Brightview Senior Living (Brightview) to acquire a portfolio of eight premium senior housing communities from Harrison Street, one of the leading investment management firms exclusively focused on alternative real assets with approximately $56 billion in assets under management\\n\\nThe portfolio, which Brightview originally developed, is comprised of 1,186 units across the Baltimore, Philadelphia, Providence and Boston metropolitan areas\\n\\nBrightview will continue to operate the communities\\n\\n\"We are pleased to acquire this high-quality portfolio of senior housing communities that have demonstrated a track record of strong operational performance,\" said Will Milam, Head of U.S\\n\\nInvestments at Morgan Stanley Real Estate Investing\\n\\n\"Aging demographics, notably the accelerating growth in the 70- to 85-year-old age group, coupled with Brightview’s 25 years of providing excellent care for their residents make this an attractive investment for our investor clients.\" \"We are excited to partner with MSREI as we remain committed to being a great place to work for our associates and a great place to live for our residents,\" said Brian Engle, EVP of Operations for Brightview Senior Living\\n\\nAccording to John Burns Research and Consulting, nearly all 69 million baby boomers will reach 70 or older by 2033\\n\\nThis cohort’s wealth accumulation from the appreciation in equities and housing in recent years is expected to increase demand for quality senior living with care options, such as assisted living and nursing facilities\\n\\nFunds managed by MSREI have been actively investing in senior housing since the sector was dislocated during the COVID-19 pandemic and today have an ownership interest in approximately 30 senior living communities across the United States with nearly 3,000 independent living, assisted living and memory care units\\n\\nJLL Capital Markets advised the sellers on the transaction and secured Freddie Mac acquisition financing for MSREI\\n\\nAbout Brightview Brightview Senior Living builds, owns, and operates over 45 award-winning vibrant senior living communities in eight states along the East Coast: Connecticut, Maryland, Massachusetts, New Jersey, New York, Pennsylvania, Rhode Island, and Virginia\\n\\nWe offer senior Independent Living, Assisted Living, Enhanced Care, and Wellspring Village™, a specialized neighborhood for people living with Alzheimer’s disease and other forms of dementia\\n\\nBrightview’s award-winning culture has been recognized at the top of Fortune Magazine’s Best Workplace in Aging Services for five years in a row and is the only senior living company recognized multiple times by Fortune’s 100 Best Companies to Work for, Fortune’s Best Workplaces for Women, and People Magazine’s Companies that Care\\n\\nBrightview communities rank in the top three organizations in the country for the percentage of communities awarded U.S\\n\\nNews & World Report’s Best Independent Living, Best Assisted Living, and Best Memory Care awards\\n\\nAbout Morgan Stanley Real Estate Investing Morgan Stanley Real Estate Investing (MSREI) is the global private real estate investment management business of Morgan Stanley\\n\\nOne of the most active property investors in the world for over three decades, MSREI employs a patient, disciplined approach through global value-add / opportunistic and regional core / core-plus real estate investment strategies\\n\\nWith 17 offices throughout the U.S., Europe and Asia, regional teams of dedicated real estate professionals combine a unique global perspective with local presence and significant transaction execution expertise\\n\\nMSREI currently manages $53 billion of gross real estate assets worldwide on behalf of its clients\\n\\nAbout Morgan Stanley Investment Management Morgan Stanley Investment Management, together with its investment advisory affiliates, has more than 1,300 investment professionals around the world and $1.6 trillion in assets under management or supervision as of September 30, 2024\\n\\nMorgan Stanley Investment Management strives to provide strong long-term investment performance, outstanding service, and a comprehensive suite of investment management solutions to a diverse client base, which includes governments, institutions, corporations and individuals worldwide\\n\\nFor further information about Morgan Stanley Investment Management, please visit www.morganstanley.com/im (https://cts.businesswire.com/ct/CT?id=smartlink&url=http%3A%2F%2Fwww.morganstanley.com%2Fim&esheet=54168402&newsitemid=20241217882506&lan=en-US&anchor=www.morganstanley.com%2Fim&index=1&md5=35a68f744bc91bc32e8a1060a3b62dd9) \\n\\nAbout Morgan Stanley Morgan Stanley (NYSE: MS) is a leading global financial services firm providing a wide range of investment banking, securities, wealth management and investment management services\\n\\nWith offices in 42 countries, the Firm’s employees serve clients worldwide including corporations, governments, institutions and individuals\\n\\nFor further information about Morgan Stanley, please visit www.morganstanley.com (https://cts.businesswire.com/ct/CT?id=smartlink&url=http%3A%2F%2Fwww.morganstanley.com&esheet=54168402&newsitemid=20241217882506&lan=en-US&anchor=www.morganstanley.com&index=2&md5=11161c85878d73f453bf220652544968) \\n\\nView source version on businesswire.com: https://www.businesswire.com/news/home/20241217882506/en/ Contacts Media Relations: Alyson Barnes +1 212 762-0514 alyson.barnes@morganstanley.com (mailto:alyson.barnes@morganstanley.com)'],\n",
       " [\"Investing.com --Morgan Stanley named Visa Inc (NYSE:V) its top stock pick in the payments sector for 2025, given its strong growth prospects from international travel, value-added services, and new payment flows\\n\\nThe brokerage remains overweight on Visa and Mastercard (NYSE:MA), favouring their defensible business models, strong operating leverage, and limited competition\\n\\n“We are adding V as our Top Pick into 2025 given attractive valuation, benefits from travel + value added services, easing regulatory scrutiny, and favorable tactical trading dynamics,” analyst said\\n\\nMorgan Stanley (NYSE:MS) expects both companies to deliver double-digit earnings growth with potential for modest valuation expansion\\n\\nVisa's valuation appears particularly attractive on a growth-adjusted basis compared to consumer peers, the note said\\n\\nMorgan Stanley also highlighted reduced regulatory risks and a potential benefit from an uptick in institutional ownership as key drivers for the stock\\n\\nInvestor sentiment that Visa stock is over-owned relative to the S&P 500 may be misplaced, Morgan Stanley said, noting Visa's current ownership levels remain below historical averages\\n\\nThe brokerage expects near-term tailwinds for Visa from increasing international travel and a possible reversal of its recent inverse correlation with bank outperformance\\n\\nRelated Articles Visa Morgan Stanley’s top pick in payment sector for 2025 on travel (https://www.investing.com/news/stock-market-news/visa-morgan-stanleys-top-pick-in-payment-sector-for-2025-on-travel-3779627?utm_source=yahoo&utm_medium=referral&utm_campaign=yahoo_finance) Wall Street opens little changed as markets brace for Fed (https://www.investing.com/news/economy-news/futures-inch-higher-as-markets-await-fed-decision-3778901?utm_source=yahoo&utm_medium=referral&utm_campaign=yahoo_finance) Marathon VW talks drag on in search for pre-Christmas deal with unions (https://www.investing.com/news/stock-market-news/talks-between-vw-unions-over-cuts-continue-into-wednesday-sources-say-3778650?utm_source=yahoo&utm_medium=referral&utm_campaign=yahoo_finance)\"],\n",
       " [\"(Bloomberg) -- Morgan Stanley’s E*Trade is planning a suite of free funds, with a catch — only customers of the brokerage platform would be able to buy them\\n\\nMost Read from Bloomberg How California Sees the World, and Itself (https://www.bloomberg.com/news/articles/2024-12-13/how-do-californians-see-their-global-role-now-it-s-complicated?utm_campaign=bn&utm_medium=distro&utm_source=yahooUS) Hong Kong's Expat Party Hub Reshaped by Chinese Influx (https://www.bloomberg.com/news/features/2024-12-12/mainland-chinese-influx-reshapes-hong-kong-nightlife-hub-lan-kwai-fong?utm_campaign=bn&utm_medium=distro&utm_source=yahooUS) London’s Tube Fares Are Set to Rise by 4.6% Next Year (https://www.bloomberg.com/news/articles/2024-12-13/london-s-tube-fares-are-set-to-rise-by-4-6-next-year?utm_campaign=bn&utm_medium=distro&utm_source=yahooUS) The firm submitted plans on Monday for five mutual funds spanning stocks and bonds, according to a filing with the Securities and Exchange Commission\\n\\nWhile all five funds would be zero-cost, buying would be restricted to investors with “a self-directed account” at E*Trade from Morgan Stanley\\n\\nE*Trade follows in the footsteps of Fidelity Investments, which launched zero-fee index funds exclusive to their brokerage clients in 2018\\n\\nThe thinking goes that while a firm won’t turn a profit from offering a fund with a zero expense ratio, it may attract investors who then turn into paying clients for other parts of the business\\n\\nThat’s likely the logic that Morgan Stanley’s E*Trade is following with these planned products, according to Bloomberg Intelligence\\n\\n“It’s designed to try and get people in the door,” Eric Balchunas, a senior ETF analyst with Bloomberg Intelligence said\\n\\n“It speaks to the fact that it’s very competitive to get fingertips and eyeballs onto your exchange.” E*Trade is just one of many trading platform options investors have to choose from after a number of fintech firms arose to challenge the traditional brokerages over the past few years\\n\\nA Morgan Stanley spokesperson declined to comment\\n\\nThe planned funds include the E*TRADE No Fee Large Cap Index Fund, the E*TRADE No Fee Total Market Index Fund, the E*TRADE No Fee International Index Fund, the E*TRADE No Fee Municipal Bond Index Fund and the E*TRADE No Fee U.S\\n\\nBond Index Fund\\n\\nFidelity’s line-up of no-fee funds has found an audience, with the Fidelity Zero Total Market Index Fund now commanding nearly $26 billion in assets\\n\\nWhile it’s unclear if the free funds have managed to bring in new clients to the brokerage platform, that kind of growth is impressive in the indexing business, according to Morningstar Research Services\\n\\n“Loss leaders induce people to come, stay, and be up- or cross-sold,” said Jeffrey Ptak, chief ratings officer at Morningstar Research Services\\n\\nMost Read from Bloomberg Businessweek The Property Brothers Say Hold Off on the Big Home Renovation in 2025 (https://www.bloomberg.com/news/features/2024-12-17/property-brothers-turned-reality-tv-home-renovation-craze-into-a-business-empire?utm_campaign=bw&utm_medium=distro&utm_source=yahooUS) Desperate Nursing Students Turn to Fixers for Their Clinical Training (https://www.bloomberg.com/news/features/2024-12-16/nursing-students-find-own-clinical-training-as-schools-leave-them-without-help?utm_campaign=bw&utm_medium=distro&utm_source=yahooUS) Crypto Got What It Wanted in November’s Election\\n\\nNow What? (https://www.bloomberg.com/news/articles/2024-12-17/crypto-got-what-it-wanted-in-the-us-election-here-s-what-s-next?utm_campaign=bw&utm_medium=distro&utm_source=yahooUS) How Can the World Move Beyond Combustion Cars? Look to Norway (https://www.bloomberg.com/news/articles/2024-12-16/norway-on-track-to-eliminate-sales-of-gasoline-cars-in-2025?utm_campaign=bw&utm_medium=distro&utm_source=yahooUS) ©2024 Bloomberg L.P.\"],\n",
       " ['Robinhood\\'s ride to fintech supremacy has been almost as volatile as the meme stocks that trade on its platform\\n\\nIts IPO debut on July 28, 2021, ended with the stock down 8% to $34.82\\n\\nLed by co-founders Vlad Tenev (https://finance.yahoo.com/video/robinhood-ceo-outlines-opportunities-options-142653391.html) and Baiju Bhatt, then a clean-shaven duo with long, flowing locks, the company struggled to break the perception as a place for 20-somethings to buy one share (https://finance.yahoo.com/news/an-open-letter-to-gamestop-executive-chairman-ryan-cohen-morning-brief-100037724.html) of GameStop ( GME (https://finance.yahoo.com/quote/GME) ) and call it a day\\n\\nIn 2022, the company slashed headcount by 9% in a first round of cuts, then by 23% in the second\\n\\nIts stock hit a record low of $6.81 on June 13, 2022\\n\\nBy June 2023, it was eliminating another 7% of its workforce\\n\\nIts stock high of $55 per share looked to be in the rearview mirror\\n\\nYet a plethora of product releases later, CEO Tenev is waltzing in for Yahoo Finance\\'s Comeback of the Year at our NYC headquarters\\n\\nTenev, now 37, sports shorter hair that\\'s on the cusp of looking like peers at corporate rivals Charles Schwab ( SCHW (https://finance.yahoo.com/quote/SCHW) ) or JPMorgan ( JPM (https://finance.yahoo.com/quote/JPM) )\\n\\nSources have quipped he actually looks like the fabled character that takes from the rich and gives to the poor\\n\\nToday, the business has finally begun to haul in major profits, and the stock is up a sizzling 191% this year\\n\\n\"I remember when we entered the public markets, it was sort of at the height of the secular bull market and we felt good\\n\\nBut the business now is much stronger across pretty much all dimensions\\n\\nWe have nine business lines that are generating over a hundred million in annual revenue,\" Tenev said\\n\\nRobinhood has gained back credibility by uncorking credible new initiatives (https://finance.yahoo.com/video/robinhood-ceo-2-trends-alter-180046871.html) that signal it\\'s serious about its next 10 years\\n\\nEven before the company debuted presidential election betting contracts pre-election, its product release and acquisition pace had picked up considerably\\n\\nIn mid-October, Robinhood said it would launch futures and index options trading and introduced Robinhood Legend, billed as a sleeker platform that targets more sophisticated traders\\n\\nRobinhood Legend will allow up to eight charts open in a single window and could elevate various technical indicators such as Bollinger Bands\\n\\nRead more: Here\\'s why Walmart won Yahoo Finance\\'s 2024 Company of the Year award (https://finance.yahoo.com/news/walmart-is-the-2024-yahoo-finance-company-of-the-year-110030254.html) June brought the acquisition of crypto exchange Bitstamp, while it scooped up AI-powered investment research firm Pluto in July\\n\\nIt also took aim at credit players American Express ( AXP (https://finance.yahoo.com/quote/AXP) ) and Visa ( V (https://finance.yahoo.com/quote/V) ) in March with the launch of a credit card that offers 3% cash back\\n\\nTevev says his goal is to make Robinhood a one-stop shop for building generational wealth\\n\\nCombine the product drops with high interest rates, a crypto surge, and a leaner expense base, and Robinhood is reporting banner earnings\\n\\nIts third quarter revenue grew 36% year over year to $637 million\\n\\nNet earnings improved sharply to $150 million from an $85 million loss a year ago\\n\\nAverage revenue per user increased by 31% to $105\\n\\nGold subscribers hit 2.2 million\\n\\nTotal funded customers reached 24.3 million, up 1 million from last year\\n\\nFor the nine months ended Sept\\n\\n30, total revenue has increased 39% to $1.9 billion\\n\\nNet income has swung from a loss of $571 million to a profit of $495 million\\n\\n\"Their account growth has been much higher, and as I look at the pace of increase, it was really like around the end of last year it picked up ..\\n\\nIt was in January where it sort of like stepped up [even] higher,\" said Barclays analyst Ben Budish, who rates the stock a hold\\n\\nAccount growth is a sign Robinhood is gaining market share from legacy trading platforms such as Interactive Brokers and Charles Schwab, experts tell Yahoo Finance\\n\\nFor Tenev and his team, it\\'s on to the next year — then the next decade\\n\\nRobinhood said at its investor day that it\\'s focused on holding two more product events in 2025, including one dedicated to crypto in France\\n\\n\"We\\'ll be able to launch some pretty innovative things that we\\'re getting excited about,\" Tenev said\\n\\nCrypto could be an important tailwind as a pro-crypto Trump administration (https://finance.yahoo.com/news/trumps-bitcoin-superpower-promise-may-help-nvidia-tech-investor-141808711.html) arrives\\n\\nThe Biden administration and outgoing SEC Chair Gary Gensler (https://finance.yahoo.com/video/sec-chair-gary-gensler-testifies-204118257.html) have largely been viewed as anti-crypto, or neutral at best\\n\\nTrump\\'s pick for SEC chair, Paul Atkins, and the appointment of tech venture capitalist David Sacks as crypto czar has the crypto community in a frenzy\\n\\nBitcoin sailed past $100,000 post-election\\n\\n\"We\\'re very excited about Paul Atkins taking on the mantle and getting the agency pointed in the right direction,\" Tenev said\\n\\n\"We\\'re also looking forward to the end of the regulation-by-enforcement approach.\" Tenev says Robinhood\\'s business could grow by 10 times over the next 10 years by widening its product reach\\n\\nThe aforementioned futures trading, which is projected to launch in early 2025, is estimated by the company to be a nine-figure business\\n\\nIt will also expand its events contracts business\\n\\nTenev didn\\'t rule out a potential foray into sports betting\\n\\n\"We\\'re going to broaden that [events business out],\" Tenev added\\n\\n\"There\\'s all kinds of contracts and events that are permissible that we\\'d want to allow people to trade.\" \"Bull is the new base case [on Robinhood],\" Wolfe Research analyst Steven Chubak said after its investor day\\n\\n\"We are confident in management\\'s ability to execute on growth initiatives and capture share in active trader and crypto.\" Chubak maintained an Outperform rating on Robinhood shares\\n\\nRobinhood will have a much higher bar to clear to keep investors happy moving forward\\n\\nLower interest rates could weigh on interest-bearing assets\\n\\nTrump may end up being less crypto-friendly than expected, or not move as quickly (https://finance.yahoo.com/video/why-elon-musk-trump-could-130004912.html) as crypto markets have priced in\\n\\nAnd it\\'s hard to believe Charles Schwab will keep losing retail investors to Robinhood under new CEO Rick Wurster (https://finance.yahoo.com/video/charles-schwab-incoming-ceo-talks-170605990.html) \\n\\nThe stock\\'s valuation leaves little margin for error, trading on a forward PE multiple of 32 times, according to Yahoo Finance data (https://finance.yahoo.com/quote/HOOD/key-statistics/) \\n\\nCharles Schwab and Interactive Brokers trade at 22 times and 28 times, respectively\\n\\nThe broader S&P 500 trades at 23 times earnings\\n\\nMore than 70% of Wall Street analysts that cover Robinhood rate it a Buy or Strong Buy with an average price target of $43 (about 9% upside potential), per Yahoo Finance data (https://finance.yahoo.com/quote/HOOD/analysis/) \\n\\nMizuho Securities analyst and Robinhood bull Dan Dolev (https://finance.yahoo.com/video/why-robinhoods-sec-threat-shouldnt-210318922.html) told me on Yahoo Finance\\'s Opening Bid (https://finance.yahoo.com/videos/series/opening-bid/) that he has a $60 price target on Robinhood and is banking on a bumper 2025 on the strength of crypto and stock trading\\n\\n\"So the other side of Robinhood is it has been an ideal [environment this year],\" Budish said\\n\\nFor next year, it \"feels like it all depends on what happens to crypto.\" Whatever the case, Tenev contends he will be focused on preventing complacency among the rank and file\\n\\n\"There\\'s a lot of things we could be doing better and we\\'re learning a lot of things\\n\\nSo even though we\\'re getting a lot of positive reinforcement, it\\'s definitely not time to declare victory or take our foot off the gas in any way,\" Tenev said\\n\\nBrian Sozzi (https://www.yahoo.com/author/brian-sozzi/) is Yahoo Finance\\'s Executive Editor\\n\\nFollow Sozzi on X @BrianSozzi (https://twitter.com/BrianSozzi) and on LinkedIn (https://www.linkedin.com/in/briansozzi/) \\n\\nTips on deals, mergers, activist situations, or anything else? Email brian.sozzi@yahoofinance.com\\n\\nRead more about Yahoo Finance\\'s 2024 company awards: Walmart is the 2024 Yahoo Finance Company of the Year (https://finance.yahoo.com/news/walmart-is-the-2024-yahoo-finance-company-of-the-year-110030254.html) How Walmart\\'s $90 billion Sam\\'s Club is aiming to take down Costco (https://finance.yahoo.com/news/how-walmarts-90-billion-sams-club-is-aiming-to-take-down-costco-145528279.html) Nvidia, GM, Walmart, Palantir, Tesla, Meta, and others battle this Yahoo Finance awards season (https://finance.yahoo.com/news/nvidia-gm-walmart-palantir-tesla-meta-and-others-battle-this-yahoo-finance-awards-season-110036402.html)']]"
      ]
     },
     "execution_count": 86,
     "metadata": {},
     "output_type": "execute_result"
    }
   ],
   "execution_count": 86
  },
  {
   "metadata": {
    "ExecuteTime": {
     "end_time": "2024-12-26T06:02:30.339205Z",
     "start_time": "2024-12-26T06:02:30.334256Z"
    }
   },
   "cell_type": "code",
   "source": [
    "'''\n",
    "def insert_content_to_db(conn, record_id, list_content, non_empty_links):\n",
    "    \"\"\"Insert content into the database.\"\"\"\n",
    "    cursor = conn.cursor()\n",
    "    try:\n",
    "        for i, content_list in enumerate(list_content):\n",
    "            if not content_list:  \n",
    "                print(f\"No content for News {i}, skipping...\")\n",
    "                continue\n",
    "\n",
    "            content = \" \".join(content_list)\n",
    "            content = content.encode(\"utf-8\", \"ignore\").decode(\"utf-8\")\n",
    "\n",
    "            sql_insert = \"\"\"\n",
    "                INSERT INTO NEWS (Record_id, New_link, content)\n",
    "                VALUES (%s, %s, %s);\n",
    "            \"\"\"\n",
    "            cursor.execute(sql_insert, (record_id, content, non_empty_links[i]))\n",
    "            conn.commit()\n",
    "            print(f\"Data inserted successfully for News {i+1}\")\n",
    "    except Exception as e:\n",
    "        conn.rollback()\n",
    "        print(\"Error while inserting data:\", e)\n",
    "    finally:\n",
    "        cursor.close()"
   ],
   "id": "e8e55395a5057a40",
   "outputs": [],
   "execution_count": 144
  },
  {
   "metadata": {
    "ExecuteTime": {
     "end_time": "2024-12-26T06:02:49.707697Z",
     "start_time": "2024-12-26T06:02:49.703619Z"
    }
   },
   "cell_type": "code",
   "source": [
    "record_id = 1\n",
    "insert_content_to_db(conn, record_id, list_content,list_links)\n",
    "'''"
   ],
   "id": "5a17cfc82a79a790",
   "outputs": [
    {
     "name": "stdout",
     "output_type": "stream",
     "text": [
      "Error while inserting data: Python type list cannot be converted\n"
     ]
    }
   ],
   "execution_count": 146
  },
  {
   "metadata": {
    "ExecuteTime": {
     "end_time": "2024-12-26T06:05:21.924322Z",
     "start_time": "2024-12-26T06:05:21.918609Z"
    }
   },
   "cell_type": "code",
   "source": [
    "def insert_content_to_db(conn, record_id, list_content, non_empty_links):\n",
    "    \"\"\"Insert content and links into the database.\"\"\"\n",
    "    cursor = conn.cursor()\n",
    "    try:\n",
    "        for i, (content_list, link) in enumerate(zip(list_content, non_empty_links)):\n",
    "            \n",
    "            if not content_list:  \n",
    "                print(f\"No content for News {i+1}, skipping...\")\n",
    "                continue\n",
    "\n",
    "            content = \" \".join(\n",
    "                item if isinstance(item, str) else str(item) for item in content_list\n",
    "            )\n",
    "            content = content.encode(\"utf-8\", \"ignore\").decode(\"utf-8\")\n",
    "\n",
    "            \n",
    "            if isinstance(link, list):\n",
    "                link = \" \".join(link)  \n",
    "            link = link.encode(\"utf-8\", \"ignore\").decode(\"utf-8\")  \n",
    "\n",
    "            \n",
    "            sql_insert = \"\"\"\n",
    "                INSERT INTO NEWS (Record_id, News_link, content)\n",
    "                VALUES (%s, %s, %s);\n",
    "            \"\"\"\n",
    "           \n",
    "            cursor.execute(sql_insert, (record_id, link, content))\n",
    "            conn.commit()\n",
    "            print(f\"Data inserted successfully for News {i+1}\")\n",
    "    except Exception as e:\n",
    "        conn.rollback()\n",
    "        print(\"Error while inserting data:\", e)\n",
    "    finally:\n",
    "        cursor.close()\n"
   ],
   "id": "ad25cc205399b17d",
   "outputs": [],
   "execution_count": 149
  },
  {
   "metadata": {
    "ExecuteTime": {
     "end_time": "2024-12-26T06:05:22.565519Z",
     "start_time": "2024-12-26T06:05:22.519719Z"
    }
   },
   "cell_type": "code",
   "source": [
    "record_id = 1\n",
    "insert_content_to_db(conn, record_id, list_content,list_links)\n",
    "    "
   ],
   "id": "ee0e00cfd3722e21",
   "outputs": [
    {
     "name": "stdout",
     "output_type": "stream",
     "text": [
      "Data inserted successfully for News 1\n",
      "Data inserted successfully for News 2\n",
      "Data inserted successfully for News 3\n",
      "Data inserted successfully for News 4\n"
     ]
    }
   ],
   "execution_count": 150
  },
  {
   "metadata": {
    "ExecuteTime": {
     "end_time": "2024-12-26T05:51:50.363159Z",
     "start_time": "2024-12-26T05:51:50.359185Z"
    }
   },
   "cell_type": "code",
   "source": [
    "def get_content(company, number, record_id):\n",
    "    \"\"\"Main function to get content from Yahoo Finance and store it in the database.\"\"\"\n",
    "    url = f'https://finance.yahoo.com/quote/{company}/news/'\n",
    "    driver_path = r'C:\\Users\\AAA\\Downloads\\chromedriver-win64\\chromedriver-win64\\chromedriver.exe'\n",
    "\n",
    "    driver = setup_driver(driver_path)\n",
    "    conn = setup_db_connection()\n",
    "\n",
    "    try:\n",
    "      \n",
    "        links = collect_links(driver, url, number)\n",
    "        print(\"Collected Links:\", links)\n",
    "        \n",
    "        non_empty_links = fetch_non_empty_links(links)\n",
    "        print(\"Non Empty Links:\", non_empty_links)\n",
    "\n",
    "        \n",
    "        list_content = fetch_article_links(links)\n",
    "        print(f\"=== Collected {len(list_content)} Contents ===\")\n",
    "\n",
    "      \n",
    "        insert_content_to_db(conn, record_id, list_content, non_empty_links)\n",
    "    finally:\n",
    "        driver.quit()\n",
    "        conn.close()\n",
    "\n",
    "\n"
   ],
   "id": "c353faaa95302e6",
   "outputs": [],
   "execution_count": 121
  },
  {
   "metadata": {
    "ExecuteTime": {
     "end_time": "2024-12-26T06:07:17.171810Z",
     "start_time": "2024-12-26T06:06:09.592676Z"
    }
   },
   "cell_type": "code",
   "source": "get_content(\"MS\", 5, 1)",
   "id": "78af148b94b0143",
   "outputs": [
    {
     "name": "stdout",
     "output_type": "stream",
     "text": [
      "Collected Links: ['https://finance.yahoo.com/news/morgan-stanley-real-estate-investing-140000492.html', 'https://finance.yahoo.com/news/visa-morgan-stanley-top-pick-144647813.html', 'https://finance.yahoo.com/news/e-trade-plans-zero-cost-192601537.html', 'https://finance.yahoo.com/news/robinhoods-surge-towards-profitability-brings-it-back-to-the-top-of-the-financial-world-110048551.html', 'https://finance.yahoo.com/m/341bebc2-1c07-3cac-8a5f-0193edc2db72/xerox-to-buy-printer-maker.html']\n",
      "=== Collected 4 Contents ===\n",
      "Data inserted successfully for News 1\n",
      "Data inserted successfully for News 2\n",
      "Data inserted successfully for News 3\n",
      "Data inserted successfully for News 4\n"
     ]
    }
   ],
   "execution_count": 151
  },
  {
   "metadata": {},
   "cell_type": "code",
   "outputs": [],
   "execution_count": null,
   "source": "",
   "id": "55c276cfd72c6da2"
  }
 ],
 "metadata": {
  "kernelspec": {
   "display_name": "Python 3",
   "language": "python",
   "name": "python3"
  },
  "language_info": {
   "codemirror_mode": {
    "name": "ipython",
    "version": 2
   },
   "file_extension": ".py",
   "mimetype": "text/x-python",
   "name": "python",
   "nbconvert_exporter": "python",
   "pygments_lexer": "ipython2",
   "version": "2.7.6"
  }
 },
 "nbformat": 4,
 "nbformat_minor": 5
}
